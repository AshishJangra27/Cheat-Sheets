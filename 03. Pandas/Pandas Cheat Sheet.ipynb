{
 "cells": [
  {
   "cell_type": "markdown",
   "id": "9a8ef170",
   "metadata": {},
   "source": [
    "# Comprehensive Pandas Cheat Sheet\n",
    "\n",
    "This cheat sheet covers the essential and advanced features of Pandas, a powerful library for data manipulation and analysis in Python."
   ]
  },
  {
   "cell_type": "markdown",
   "id": "f00c4742",
   "metadata": {},
   "source": [
    "## 1. Introduction\n",
    "### 1.1 What is Pandas?\n",
    "Pandas is a powerful, open-source library used for data manipulation and analysis in Python. It provides data structures like Series and DataFrame which make data manipulation easy and intuitive."
   ]
  },
  {
   "cell_type": "markdown",
   "id": "369b2f1a",
   "metadata": {},
   "source": [
    "### 1.2 Installing Pandas\n",
    "You can install Pandas using pip:\n",
    "```\n",
    "pip install pandas\n",
    "```\n",
    "Or, if you are using Anaconda:\n",
    "```\n",
    "conda install pandas\n",
    "```"
   ]
  },
  {
   "cell_type": "markdown",
   "id": "707761b5",
   "metadata": {},
   "source": [
    "### 1.3 Importing Pandas\n",
    "To use Pandas, you need to import it in your script:\n"
   ]
  },
  {
   "cell_type": "code",
   "execution_count": 1,
   "id": "d0db972c",
   "metadata": {},
   "outputs": [],
   "source": [
    "import pandas as pd\n",
    "# Now you can use Pandas functions with the pd prefix\n"
   ]
  },
  {
   "cell_type": "markdown",
   "id": "43b77935",
   "metadata": {},
   "source": [
    "## 2. Data Structures\n",
    "### 2.1 Series\n",
    "A Series is a one-dimensional labeled array capable of holding any data type."
   ]
  },
  {
   "cell_type": "markdown",
   "id": "ea7e7fc8",
   "metadata": {},
   "source": [
    "#### 2.1.1 Creating Series"
   ]
  },
  {
   "cell_type": "code",
   "execution_count": 2,
   "id": "44afe1f9",
   "metadata": {},
   "outputs": [
    {
     "name": "stdout",
     "output_type": "stream",
     "text": [
      "0    1\n",
      "1    2\n",
      "2    3\n",
      "3    4\n",
      "4    5\n",
      "dtype: int64\n"
     ]
    }
   ],
   "source": [
    "# Creating a Series\n",
    "import pandas as pd\n",
    "import numpy as np\n",
    "\n",
    "data = np.array([1, 2, 3, 4, 5])\n",
    "series = pd.Series(data)\n",
    "print(series)"
   ]
  },
  {
   "cell_type": "markdown",
   "id": "12b87e96",
   "metadata": {},
   "source": [
    "#### 2.1.2 Accessing Series Elements"
   ]
  },
  {
   "cell_type": "code",
   "execution_count": 3,
   "id": "b4b34e1d",
   "metadata": {},
   "outputs": [
    {
     "name": "stdout",
     "output_type": "stream",
     "text": [
      "1\n",
      "0    1\n",
      "1    2\n",
      "2    3\n",
      "dtype: int64\n"
     ]
    }
   ],
   "source": [
    "# Accessing elements in a Series\n",
    "print(series[0])  # Output: 1\n",
    "print(series[:3])  # Output: \n",
    "# 0    1\n",
    "# 1    2\n",
    "# 2    3\n",
    "# dtype: int64"
   ]
  },
  {
   "cell_type": "markdown",
   "id": "f1697b96",
   "metadata": {},
   "source": [
    "#### 2.1.3 Series Methods"
   ]
  },
  {
   "cell_type": "code",
   "execution_count": 4,
   "id": "391e041a",
   "metadata": {},
   "outputs": [
    {
     "name": "stdout",
     "output_type": "stream",
     "text": [
      "5\n",
      "1\n",
      "3.0\n"
     ]
    }
   ],
   "source": [
    "# Series methods\n",
    "print(series.max())  # Output: 5\n",
    "print(series.min())  # Output: 1\n",
    "print(series.mean())  # Output: 3.0"
   ]
  },
  {
   "cell_type": "markdown",
   "id": "534e869e",
   "metadata": {},
   "source": [
    "### 2.2 DataFrame\n",
    "A DataFrame is a two-dimensional labeled data structure with columns of potentially different types."
   ]
  },
  {
   "cell_type": "markdown",
   "id": "cb1618f3",
   "metadata": {},
   "source": [
    "#### 2.2.1 Creating DataFrame"
   ]
  },
  {
   "cell_type": "code",
   "execution_count": 5,
   "id": "f5a347b7",
   "metadata": {},
   "outputs": [
    {
     "name": "stdout",
     "output_type": "stream",
     "text": [
      "    Name  Age      City\n",
      "0   John   28  New York\n",
      "1   Anna   24     Paris\n",
      "2  Peter   35    Berlin\n",
      "3  Linda   32    London\n"
     ]
    }
   ],
   "source": [
    "# Creating a DataFrame\n",
    "data = {\n",
    "    'Name': ['John', 'Anna', 'Peter', 'Linda'],\n",
    "    'Age': [28, 24, 35, 32],\n",
    "    'City': ['New York', 'Paris', 'Berlin', 'London']\n",
    "}\n",
    "df = pd.DataFrame(data)\n",
    "print(df)"
   ]
  },
  {
   "cell_type": "markdown",
   "id": "7c100784",
   "metadata": {},
   "source": [
    "#### 2.2.2 Accessing DataFrame Elements"
   ]
  },
  {
   "cell_type": "code",
   "execution_count": 6,
   "id": "7fc0f075",
   "metadata": {},
   "outputs": [
    {
     "name": "stdout",
     "output_type": "stream",
     "text": [
      "0     John\n",
      "1     Anna\n",
      "2    Peter\n",
      "3    Linda\n",
      "Name: Name, dtype: object\n",
      "    Name      City\n",
      "0   John  New York\n",
      "1   Anna     Paris\n",
      "2  Peter    Berlin\n",
      "3  Linda    London\n",
      "Name     Anna\n",
      "Age        24\n",
      "City    Paris\n",
      "Name: 1, dtype: object\n",
      "Name     Peter\n",
      "Age         35\n",
      "City    Berlin\n",
      "Name: 2, dtype: object\n"
     ]
    }
   ],
   "source": [
    "# Accessing DataFrame elements\n",
    "print(df['Name'])  # Accessing a single column\n",
    "print(df[['Name', 'City']])  # Accessing multiple columns\n",
    "print(df.loc[1])  # Accessing a row by index\n",
    "print(df.iloc[2])  # Accessing a row by position"
   ]
  },
  {
   "cell_type": "markdown",
   "id": "0d2d391f",
   "metadata": {},
   "source": [
    "#### 2.2.3 DataFrame Methods"
   ]
  },
  {
   "cell_type": "code",
   "execution_count": 7,
   "id": "cb4ee9ef",
   "metadata": {},
   "outputs": [
    {
     "name": "stdout",
     "output_type": "stream",
     "text": [
      "             Age\n",
      "count   4.000000\n",
      "mean   29.750000\n",
      "std     4.787136\n",
      "min    24.000000\n",
      "25%    27.000000\n",
      "50%    30.000000\n",
      "75%    32.750000\n",
      "max    35.000000\n",
      "<class 'pandas.core.frame.DataFrame'>\n",
      "RangeIndex: 4 entries, 0 to 3\n",
      "Data columns (total 3 columns):\n",
      " #   Column  Non-Null Count  Dtype \n",
      "---  ------  --------------  ----- \n",
      " 0   Name    4 non-null      object\n",
      " 1   Age     4 non-null      int64 \n",
      " 2   City    4 non-null      object\n",
      "dtypes: int64(1), object(2)\n",
      "memory usage: 224.0+ bytes\n",
      "None\n",
      "   Name  Age      City\n",
      "0  John   28  New York\n",
      "1  Anna   24     Paris\n"
     ]
    }
   ],
   "source": [
    "# DataFrame methods\n",
    "print(df.describe())  # Summary statistics\n",
    "print(df.info())  # DataFrame information\n",
    "print(df.head(2))  # First two rows"
   ]
  },
  {
   "cell_type": "markdown",
   "id": "10ce9ab1",
   "metadata": {},
   "source": [
    "## 3. Data Manipulation\n",
    "### 3.1 Reading and Writing Data\n",
    "Pandas provides functions to read data from various file formats and write data to these formats."
   ]
  },
  {
   "cell_type": "markdown",
   "id": "b46c44c3",
   "metadata": {},
   "source": [
    "#### 3.1.1 Reading Data from CSV"
   ]
  },
  {
   "cell_type": "code",
   "execution_count": 8,
   "id": "eb25bcf9",
   "metadata": {},
   "outputs": [
    {
     "name": "stdout",
     "output_type": "stream",
     "text": [
      "    Name  Age      City\n",
      "0   John   28  New York\n",
      "1   Anna   24     Paris\n",
      "2  Peter   35    Berlin\n",
      "3  Linda   32    London\n"
     ]
    }
   ],
   "source": [
    "# Reading data from CSV\n",
    "df_csv = pd.read_csv('file.csv')\n",
    "print(df_csv.head())"
   ]
  },
  {
   "cell_type": "markdown",
   "id": "290b957a",
   "metadata": {},
   "source": [
    "#### 3.1.2 Writing Data to CSV, Excel"
   ]
  },
  {
   "cell_type": "code",
   "execution_count": 9,
   "id": "828540a6",
   "metadata": {},
   "outputs": [],
   "source": [
    "# Writing data to CSV\n",
    "df.to_csv('output.csv', index=False)\n",
    "\n",
    "# Writing data to Excel\n",
    "df.to_excel('output.xlsx', index=False)"
   ]
  },
  {
   "cell_type": "markdown",
   "id": "76db7530",
   "metadata": {},
   "source": [
    "### 3.2 Handling Missing Data\n",
    "Handling missing data is crucial for data cleaning and preparation."
   ]
  },
  {
   "cell_type": "markdown",
   "id": "76da754e",
   "metadata": {},
   "source": [
    "#### 3.2.1 Detecting Missing Data"
   ]
  },
  {
   "cell_type": "code",
   "execution_count": 10,
   "id": "1cbf88fb",
   "metadata": {},
   "outputs": [
    {
     "name": "stdout",
     "output_type": "stream",
     "text": [
      "     A    B   C\n",
      "0  1.0  5.0  10\n",
      "1  2.0  NaN  20\n",
      "2  NaN  NaN  30\n",
      "       A      B      C\n",
      "0  False  False  False\n",
      "1  False   True  False\n",
      "2   True   True  False\n",
      "A    1\n",
      "B    2\n",
      "C    0\n",
      "dtype: int64\n"
     ]
    }
   ],
   "source": [
    "# Detecting missing data\n",
    "data = {'A': [1, 2, np.nan], 'B': [5, np.nan, np.nan], 'C': [10, 20, 30]}\n",
    "df = pd.DataFrame(data)\n",
    "print(df)\n",
    "print(df.isnull())  # Detect missing values\n",
    "print(df.isnull().sum())  # Count missing values"
   ]
  },
  {
   "cell_type": "markdown",
   "id": "a208a6d2",
   "metadata": {},
   "source": [
    "#### 3.2.2 Filling Missing Data"
   ]
  },
  {
   "cell_type": "code",
   "execution_count": 11,
   "id": "94daee76",
   "metadata": {},
   "outputs": [
    {
     "name": "stdout",
     "output_type": "stream",
     "text": [
      "     A    B   C\n",
      "0  1.0  5.0  10\n",
      "1  2.0  0.0  20\n",
      "2  0.0  0.0  30\n",
      "     A    B   C\n",
      "0  1.0  5.0  10\n",
      "1  2.0  5.0  20\n",
      "2  2.0  5.0  30\n",
      "     A    B   C\n",
      "0  1.0  5.0  10\n",
      "1  2.0  NaN  20\n",
      "2  NaN  NaN  30\n"
     ]
    }
   ],
   "source": [
    "# Filling missing data\n",
    "print(df.fillna(0))  # Fill with a specified value\n",
    "print(df.fillna(method='ffill'))  # Forward fill\n",
    "print(df.fillna(method='bfill'))  # Backward fill"
   ]
  },
  {
   "cell_type": "markdown",
   "id": "051bca76",
   "metadata": {},
   "source": [
    "#### 3.2.3 Dropping Missing Data"
   ]
  },
  {
   "cell_type": "code",
   "execution_count": 12,
   "id": "e646e8a0",
   "metadata": {},
   "outputs": [
    {
     "name": "stdout",
     "output_type": "stream",
     "text": [
      "     A    B   C\n",
      "0  1.0  5.0  10\n",
      "    C\n",
      "0  10\n",
      "1  20\n",
      "2  30\n"
     ]
    }
   ],
   "source": [
    "# Dropping missing data\n",
    "print(df.dropna())  # Drop rows with any missing value\n",
    "print(df.dropna(axis=1))  # Drop columns with any missing value"
   ]
  },
  {
   "cell_type": "markdown",
   "id": "fea6eec4",
   "metadata": {},
   "source": [
    "### 3.3 Data Transformation\n",
    "Transforming data is often necessary to prepare it for analysis."
   ]
  },
  {
   "cell_type": "markdown",
   "id": "1b0cb28c",
   "metadata": {},
   "source": [
    "#### 3.3.1 Sorting"
   ]
  },
  {
   "cell_type": "code",
   "execution_count": 13,
   "id": "31b9ca86",
   "metadata": {},
   "outputs": [
    {
     "name": "stdout",
     "output_type": "stream",
     "text": [
      "    Name  Age\n",
      "1   Anna   24\n",
      "0   John   28\n",
      "3  Linda   32\n",
      "2  Peter   35\n",
      "    Name  Age\n",
      "1   Anna   24\n",
      "0   John   28\n",
      "3  Linda   32\n",
      "2  Peter   35\n"
     ]
    }
   ],
   "source": [
    "# Sorting data\n",
    "data = {'Name': ['John', 'Anna', 'Peter', 'Linda'], 'Age': [28, 24, 35, 32]}\n",
    "df = pd.DataFrame(data)\n",
    "print(df.sort_values(by='Age'))  # Sort by age\n",
    "print(df.sort_values(by='Name'))  # Sort by name"
   ]
  },
  {
   "cell_type": "markdown",
   "id": "70ece09d",
   "metadata": {},
   "source": [
    "#### 3.3.2 Ranking"
   ]
  },
  {
   "cell_type": "code",
   "execution_count": 14,
   "id": "ab18b359",
   "metadata": {},
   "outputs": [
    {
     "name": "stdout",
     "output_type": "stream",
     "text": [
      "    Name  Age  Rank\n",
      "0   John   28   2.0\n",
      "1   Anna   24   1.0\n",
      "2  Peter   35   4.0\n",
      "3  Linda   32   3.0\n"
     ]
    }
   ],
   "source": [
    "# Ranking data\n",
    "df['Rank'] = df['Age'].rank()\n",
    "print(df)"
   ]
  },
  {
   "cell_type": "markdown",
   "id": "f77eefb4",
   "metadata": {},
   "source": [
    "#### 3.3.3 Applying Functions"
   ]
  },
  {
   "cell_type": "code",
   "execution_count": 15,
   "id": "179f5b03",
   "metadata": {},
   "outputs": [
    {
     "name": "stdout",
     "output_type": "stream",
     "text": [
      "    Name  Age  Rank  AgePlusTen\n",
      "0   John   28   2.0          38\n",
      "1   Anna   24   1.0          34\n",
      "2  Peter   35   4.0          45\n",
      "3  Linda   32   3.0          42\n",
      "    Name  Age  Rank  AgePlusTen\n",
      "0   John   56   2.0          76\n",
      "1   Anna   48   1.0          68\n",
      "2  Peter   70   4.0          90\n",
      "3  Linda   64   3.0          84\n"
     ]
    }
   ],
   "source": [
    "# Applying functions\n",
    "df['AgePlusTen'] = df['Age'].apply(lambda x: x + 10)\n",
    "print(df)\n",
    "\n",
    "# Using applymap to apply function to each element\n",
    "df[['Age', 'AgePlusTen']] = df[['Age', 'AgePlusTen']].applymap(lambda x: x * 2)\n",
    "print(df)"
   ]
  },
  {
   "cell_type": "markdown",
   "id": "ae1d4c70",
   "metadata": {},
   "source": [
    "## 4. Data Aggregation and Grouping\n",
    "### 4.1 GroupBy Operations\n",
    "GroupBy operations allow you to split data into groups based on some criteria, apply a function to each group, and then combine the results."
   ]
  },
  {
   "cell_type": "code",
   "execution_count": 16,
   "id": "c9a04124",
   "metadata": {},
   "outputs": [
    {
     "name": "stdout",
     "output_type": "stream",
     "text": [
      "      Points\n",
      "Team        \n",
      "A         20\n",
      "B         40\n"
     ]
    }
   ],
   "source": [
    "# GroupBy operations\n",
    "data = {\n",
    "    'Team': ['A', 'B', 'A', 'B'],\n",
    "    'Player': ['John', 'Anna', 'Peter', 'Linda'],\n",
    "    'Points': [10, 15, 10, 25]\n",
    "}\n",
    "df = pd.DataFrame(data)\n",
    "grouped = df.groupby('Team')\n",
    "print(grouped.sum())  # Sum of points by team"
   ]
  },
  {
   "cell_type": "markdown",
   "id": "15891127",
   "metadata": {},
   "source": [
    "### 4.2 Pivot Tables"
   ]
  },
  {
   "cell_type": "code",
   "execution_count": 17,
   "id": "bada0dc0",
   "metadata": {},
   "outputs": [
    {
     "name": "stdout",
     "output_type": "stream",
     "text": [
      "Player  Anna  John  Linda  Peter\n",
      "Team                            \n",
      "A        NaN  10.0    NaN   10.0\n",
      "B       15.0   NaN   25.0    NaN\n"
     ]
    }
   ],
   "source": [
    "# Pivot tables\n",
    "pivot_table = df.pivot_table(values='Points', index='Team', columns='Player', aggfunc='sum')\n",
    "print(pivot_table)"
   ]
  },
  {
   "cell_type": "markdown",
   "id": "b9e76241",
   "metadata": {},
   "source": [
    "### 4.3 Cross Tabulation"
   ]
  },
  {
   "cell_type": "code",
   "execution_count": 18,
   "id": "3496f50a",
   "metadata": {},
   "outputs": [
    {
     "name": "stdout",
     "output_type": "stream",
     "text": [
      "Player  Anna  John  Linda  Peter\n",
      "Team                            \n",
      "A        NaN  10.0    NaN   10.0\n",
      "B       15.0   NaN   25.0    NaN\n"
     ]
    }
   ],
   "source": [
    "# Cross tabulation\n",
    "cross_tab = pd.crosstab(df['Team'], df['Player'], values=df['Points'], aggfunc='sum')\n",
    "print(cross_tab)"
   ]
  },
  {
   "cell_type": "markdown",
   "id": "9bcfe273",
   "metadata": {},
   "source": [
    "## 5. Data Merging and Concatenation\n",
    "### 5.1 Concatenation\n",
    "Concatenation combines data from multiple DataFrames into one."
   ]
  },
  {
   "cell_type": "code",
   "execution_count": 19,
   "id": "26e0663d",
   "metadata": {},
   "outputs": [
    {
     "name": "stdout",
     "output_type": "stream",
     "text": [
      "     A    B    C    D\n",
      "0   A0   B0   C0   D0\n",
      "1   A1   B1   C1   D1\n",
      "2   A2   B2   C2   D2\n",
      "3   A3   B3   C3   D3\n",
      "0   A4   B4   C4   D4\n",
      "1   A5   B5   C5   D5\n",
      "2   A6   B6   C6   D6\n",
      "3   A7   B7   C7   D7\n",
      "0   A8   B8   C8   D8\n",
      "1   A9   B9   C9   D9\n",
      "2  A10  B10  C10  D10\n",
      "3  A11  B11  C11  D11\n"
     ]
    }
   ],
   "source": [
    "# Concatenation\n",
    "df1 = pd.DataFrame({'A': ['A0', 'A1', 'A2', 'A3'],\n",
    "                    'B': ['B0', 'B1', 'B2', 'B3'],\n",
    "                    'C': ['C0', 'C1', 'C2', 'C3'],\n",
    "                    'D': ['D0', 'D1', 'D2', 'D3']})\n",
    "df2 = pd.DataFrame({'A': ['A4', 'A5', 'A6', 'A7'],\n",
    "                    'B': ['B4', 'B5', 'B6', 'B7'],\n",
    "                    'C': ['C4', 'C5', 'C6', 'C7'],\n",
    "                    'D': ['D4', 'D5', 'D6', 'D7']})\n",
    "df3 = pd.DataFrame({'A': ['A8', 'A9', 'A10', 'A11'],\n",
    "                    'B': ['B8', 'B9', 'B10', 'B11'],\n",
    "                    'C': ['C8', 'C9', 'C10', 'C11'],\n",
    "                    'D': ['D8', 'D9', 'D10', 'D11']})\n",
    "\n",
    "frames = [df1, df2, df3]\n",
    "result = pd.concat(frames)\n",
    "print(result)"
   ]
  },
  {
   "cell_type": "markdown",
   "id": "5aadbc92",
   "metadata": {},
   "source": [
    "### 5.2 Merging\n",
    "Merging combines DataFrames based on keys or indexes."
   ]
  },
  {
   "cell_type": "code",
   "execution_count": 20,
   "id": "b417f994",
   "metadata": {},
   "outputs": [
    {
     "name": "stdout",
     "output_type": "stream",
     "text": [
      "  key   A   B   C   D\n",
      "0  K0  A0  B0  C0  D0\n",
      "1  K1  A1  B1  C1  D1\n",
      "2  K2  A2  B2  C2  D2\n",
      "3  K3  A3  B3  C3  D3\n"
     ]
    }
   ],
   "source": [
    "# Merging\n",
    "left = pd.DataFrame({'key': ['K0', 'K1', 'K2', 'K3'],\n",
    "                    'A': ['A0', 'A1', 'A2', 'A3'],\n",
    "                    'B': ['B0', 'B1', 'B2', 'B3']})\n",
    "right = pd.DataFrame({'key': ['K0', 'K1', 'K2', 'K3'],\n",
    "                     'C': ['C0', 'C1', 'C2', 'C3'],\n",
    "                     'D': ['D0', 'D1', 'D2', 'D3']})\n",
    "result = pd.merge(left, right, on='key')\n",
    "print(result)"
   ]
  },
  {
   "cell_type": "markdown",
   "id": "d71a7b0a",
   "metadata": {},
   "source": [
    "### 5.3 Joining\n",
    "Joining combines DataFrames on their indexes."
   ]
  },
  {
   "cell_type": "code",
   "execution_count": 21,
   "id": "4842ab28",
   "metadata": {},
   "outputs": [
    {
     "name": "stdout",
     "output_type": "stream",
     "text": [
      "      A   B   C   D\n",
      "key                \n",
      "K0   A0  B0  C0  D0\n",
      "K1   A1  B1  C1  D1\n",
      "K2   A2  B2  C2  D2\n",
      "K3   A3  B3  C3  D3\n"
     ]
    }
   ],
   "source": [
    "# Joining\n",
    "left = left.set_index('key')\n",
    "right = right.set_index('key')\n",
    "result = left.join(right)\n",
    "print(result)"
   ]
  },
  {
   "cell_type": "markdown",
   "id": "335aabea",
   "metadata": {},
   "source": [
    "## 6. Time Series Analysis\n",
    "### 6.1 Date and Time Functions\n",
    "Pandas provides rich functionality for working with dates and times."
   ]
  },
  {
   "cell_type": "code",
   "execution_count": 22,
   "id": "28897170",
   "metadata": {},
   "outputs": [
    {
     "name": "stdout",
     "output_type": "stream",
     "text": [
      "DatetimeIndex(['2024-01-01', '2024-01-02', '2024-01-03', '2024-01-04',\n",
      "               '2024-01-05', '2024-01-06', '2024-01-07', '2024-01-08',\n",
      "               '2024-01-09', '2024-01-10'],\n",
      "              dtype='datetime64[ns]', freq='D')\n",
      "2024-01-01   -0.939045\n",
      "2024-01-02    1.104689\n",
      "2024-01-03    1.043026\n",
      "2024-01-04   -0.384542\n",
      "2024-01-05    0.299754\n",
      "2024-01-06    0.356170\n",
      "2024-01-07    2.105780\n",
      "2024-01-08   -0.874885\n",
      "2024-01-09    0.194465\n",
      "2024-01-10   -0.669901\n",
      "Freq: D, dtype: float64\n"
     ]
    }
   ],
   "source": [
    "# Date and time functions\n",
    "rng = pd.date_range('2024-01-01', periods=10, freq='D')\n",
    "print(rng)\n",
    "\n",
    "ts = pd.Series(np.random.randn(len(rng)), index=rng)\n",
    "print(ts)"
   ]
  },
  {
   "cell_type": "markdown",
   "id": "47d50c6d",
   "metadata": {},
   "source": [
    "### 6.2 Resampling\n",
    "Resampling changes the frequency of your time series data."
   ]
  },
  {
   "cell_type": "code",
   "execution_count": 23,
   "id": "6f9cd41f",
   "metadata": {},
   "outputs": [
    {
     "name": "stdout",
     "output_type": "stream",
     "text": [
      "2024-01-01    0.224776\n",
      "2024-01-06    0.222326\n",
      "Freq: 5D, dtype: float64\n"
     ]
    }
   ],
   "source": [
    "# Resampling\n",
    "ts_resampled = ts.resample('5D').mean()\n",
    "print(ts_resampled)"
   ]
  },
  {
   "cell_type": "markdown",
   "id": "6589d159",
   "metadata": {},
   "source": [
    "### 6.3 Time Zone Handling\n",
    "Pandas makes it easy to convert date and time data to different time zones."
   ]
  },
  {
   "cell_type": "code",
   "execution_count": 24,
   "id": "0e9ceda6",
   "metadata": {},
   "outputs": [
    {
     "name": "stdout",
     "output_type": "stream",
     "text": [
      "2024-01-01 00:00:00+00:00   -0.939045\n",
      "2024-01-02 00:00:00+00:00    1.104689\n",
      "2024-01-03 00:00:00+00:00    1.043026\n",
      "2024-01-04 00:00:00+00:00   -0.384542\n",
      "2024-01-05 00:00:00+00:00    0.299754\n",
      "2024-01-06 00:00:00+00:00    0.356170\n",
      "2024-01-07 00:00:00+00:00    2.105780\n",
      "2024-01-08 00:00:00+00:00   -0.874885\n",
      "2024-01-09 00:00:00+00:00    0.194465\n",
      "2024-01-10 00:00:00+00:00   -0.669901\n",
      "Freq: D, dtype: float64\n",
      "2023-12-31 19:00:00-05:00   -0.939045\n",
      "2024-01-01 19:00:00-05:00    1.104689\n",
      "2024-01-02 19:00:00-05:00    1.043026\n",
      "2024-01-03 19:00:00-05:00   -0.384542\n",
      "2024-01-04 19:00:00-05:00    0.299754\n",
      "2024-01-05 19:00:00-05:00    0.356170\n",
      "2024-01-06 19:00:00-05:00    2.105780\n",
      "2024-01-07 19:00:00-05:00   -0.874885\n",
      "2024-01-08 19:00:00-05:00    0.194465\n",
      "2024-01-09 19:00:00-05:00   -0.669901\n",
      "Freq: D, dtype: float64\n"
     ]
    }
   ],
   "source": [
    "# Time zone handling\n",
    "ts_utc = ts.tz_localize('UTC')\n",
    "print(ts_utc)\n",
    "\n",
    "ts_est = ts_utc.tz_convert('US/Eastern')\n",
    "print(ts_est)"
   ]
  },
  {
   "cell_type": "markdown",
   "id": "52313a04",
   "metadata": {},
   "source": [
    "## 7. Visualization\n",
    "### 7.1 Plotting with Pandas\n",
    "Pandas integrates with Matplotlib to provide easy plotting functionality."
   ]
  },
  {
   "cell_type": "code",
   "execution_count": 25,
   "id": "94e45545",
   "metadata": {},
   "outputs": [
    {
     "data": {
      "image/png": "[encoded data removed]",
      "text/plain": [
       "<Figure size 640x480 with 1 Axes>"
      ]
     },
     "metadata": {},
     "output_type": "display_data"
    }
   ],
   "source": [
    "# Plotting with Pandas\n",
    "import matplotlib.pyplot as plt\n",
    "\n",
    "ts.plot(title='Random Time Series')\n",
    "plt.show()"
   ]
  },
  {
   "cell_type": "markdown",
   "id": "1d2f3e53",
   "metadata": {},
   "source": [
    "### 7.2 Customizing Plots"
   ]
  },
  {
   "cell_type": "code",
   "execution_count": 26,
   "id": "2754d501",
   "metadata": {},
   "outputs": [
    {
     "data": {
      "image/png": "[encoded data removed]",
      "text/plain": [
       "<Figure size 640x480 with 1 Axes>"
      ]
     },
     "metadata": {},
     "output_type": "display_data"
    }
   ],
   "source": [
    "# Customizing plots\n",
    "ts.plot(title='Customized Plot', color='green', style='--')\n",
    "plt.xlabel('Date')\n",
    "plt.ylabel('Value')\n",
    "plt.show()"
   ]
  },
  {
   "cell_type": "markdown",
   "id": "03250487",
   "metadata": {},
   "source": [
    "## 8. Advanced Topics\n",
    "### 8.1 MultiIndex\n",
    "MultiIndex allows you to work with hierarchical indexing in Pandas."
   ]
  },
  {
   "cell_type": "code",
   "execution_count": 27,
   "id": "41302a1c",
   "metadata": {},
   "outputs": [
    {
     "name": "stdout",
     "output_type": "stream",
     "text": [
      "              value\n",
      "number color       \n",
      "1      red        1\n",
      "       blue       2\n",
      "2      red        3\n",
      "       blue       4\n"
     ]
    }
   ],
   "source": [
    "# MultiIndex\n",
    "arrays = [[1, 1, 2, 2], ['red', 'blue', 'red', 'blue']]\n",
    "index = pd.MultiIndex.from_arrays(arrays, names=('number', 'color'))\n",
    "df = pd.DataFrame({'value': [1, 2, 3, 4]}, index=index)\n",
    "print(df)"
   ]
  },
  {
   "cell_type": "markdown",
   "id": "e6d9add5",
   "metadata": {},
   "source": [
    "### 8.2 Sparse Data"
   ]
  },
  {
   "cell_type": "code",
   "execution_count": 28,
   "id": "530fd8ed",
   "metadata": {},
   "outputs": [
    {
     "name": "stdout",
     "output_type": "stream",
     "text": [
      "0    0\n",
      "1    0\n",
      "2    1\n",
      "3    0\n",
      "4    2\n",
      "dtype: Sparse[int64, 0]\n",
      "   A  B\n",
      "0  0  1\n",
      "1  1  0\n",
      "2  0  0\n"
     ]
    }
   ],
   "source": [
    "# Sparse data\n",
    "s = pd.Series([0, 0, 1, 0, 2], dtype='Sparse[int]')\n",
    "print(s)\n",
    "\n",
    "df = pd.DataFrame({'A': [0, 1, 0], 'B': [1, 0, 0]}, dtype='Sparse[int]')\n",
    "print(df)"
   ]
  },
  {
   "cell_type": "markdown",
   "id": "137a4264",
   "metadata": {},
   "source": [
    "## 9. Working with Built-in Datasets\n",
    "Pandas can work with datasets from various sources. In this section, we'll demonstrate how to use built-in datasets from popular libraries."
   ]
  },
  {
   "cell_type": "markdown",
   "id": "2246a157",
   "metadata": {},
   "source": [
    "### 9.1 Loading Built-in Datasets\n",
    "We'll use the `seaborn` library to load a built-in dataset and perform various Pandas operations on it."
   ]
  },
  {
   "cell_type": "code",
   "execution_count": 29,
   "id": "44ede2b6",
   "metadata": {},
   "outputs": [
    {
     "name": "stdout",
     "output_type": "stream",
     "text": [
      "   survived  pclass     sex   age  sibsp  parch     fare embarked  class  \\\n",
      "0         0       3    male  22.0      1      0   7.2500        S  Third   \n",
      "1         1       1  female  38.0      1      0  71.2833        C  First   \n",
      "2         1       3  female  26.0      0      0   7.9250        S  Third   \n",
      "3         1       1  female  35.0      1      0  53.1000        S  First   \n",
      "4         0       3    male  35.0      0      0   8.0500        S  Third   \n",
      "\n",
      "     who  adult_male deck  embark_town alive  alone  \n",
      "0    man        True  NaN  Southampton    no  False  \n",
      "1  woman       False    C    Cherbourg   yes  False  \n",
      "2  woman       False  NaN  Southampton   yes   True  \n",
      "3  woman       False    C  Southampton   yes  False  \n",
      "4    man        True  NaN  Southampton    no   True  \n"
     ]
    }
   ],
   "source": [
    "import seaborn as sns\n",
    "import pandas as pd\n",
    "\n",
    "# Load the 'titanic' dataset\n",
    "titanic = sns.load_dataset('titanic')\n",
    "print(titanic.head())"
   ]
  },
  {
   "cell_type": "markdown",
   "id": "8af32ef4",
   "metadata": {},
   "source": [
    "### 9.2 Data Overview"
   ]
  },
  {
   "cell_type": "code",
   "execution_count": 30,
   "id": "899d391f",
   "metadata": {},
   "outputs": [
    {
     "name": "stdout",
     "output_type": "stream",
     "text": [
      "<class 'pandas.core.frame.DataFrame'>\n",
      "RangeIndex: 891 entries, 0 to 890\n",
      "Data columns (total 15 columns):\n",
      " #   Column       Non-Null Count  Dtype   \n",
      "---  ------       --------------  -----   \n",
      " 0   survived     891 non-null    int64   \n",
      " 1   pclass       891 non-null    int64   \n",
      " 2   sex          891 non-null    object  \n",
      " 3   age          714 non-null    float64 \n",
      " 4   sibsp        891 non-null    int64   \n",
      " 5   parch        891 non-null    int64   \n",
      " 6   fare         891 non-null    float64 \n",
      " 7   embarked     889 non-null    object  \n",
      " 8   class        891 non-null    category\n",
      " 9   who          891 non-null    object  \n",
      " 10  adult_male   891 non-null    bool    \n",
      " 11  deck         203 non-null    category\n",
      " 12  embark_town  889 non-null    object  \n",
      " 13  alive        891 non-null    object  \n",
      " 14  alone        891 non-null    bool    \n",
      "dtypes: bool(2), category(2), float64(2), int64(4), object(5)\n",
      "memory usage: 80.7+ KB\n",
      "None\n",
      "          survived      pclass   sex         age       sibsp       parch  \\\n",
      "count   891.000000  891.000000   891  714.000000  891.000000  891.000000   \n",
      "unique         NaN         NaN     2         NaN         NaN         NaN   \n",
      "top            NaN         NaN  male         NaN         NaN         NaN   \n",
      "freq           NaN         NaN   577         NaN         NaN         NaN   \n",
      "mean      0.383838    2.308642   NaN   29.699118    0.523008    0.381594   \n",
      "std       0.486592    0.836071   NaN   14.526497    1.102743    0.806057   \n",
      "min       0.000000    1.000000   NaN    0.420000    0.000000    0.000000   \n",
      "25%       0.000000    2.000000   NaN   20.125000    0.000000    0.000000   \n",
      "50%       0.000000    3.000000   NaN   28.000000    0.000000    0.000000   \n",
      "75%       1.000000    3.000000   NaN   38.000000    1.000000    0.000000   \n",
      "max       1.000000    3.000000   NaN   80.000000    8.000000    6.000000   \n",
      "\n",
      "              fare embarked  class  who adult_male deck  embark_town alive  \\\n",
      "count   891.000000      889    891  891        891  203          889   891   \n",
      "unique         NaN        3      3    3          2    7            3     2   \n",
      "top            NaN        S  Third  man       True    C  Southampton    no   \n",
      "freq           NaN      644    491  537        537   59          644   549   \n",
      "mean     32.204208      NaN    NaN  NaN        NaN  NaN          NaN   NaN   \n",
      "std      49.693429      NaN    NaN  NaN        NaN  NaN          NaN   NaN   \n",
      "min       0.000000      NaN    NaN  NaN        NaN  NaN          NaN   NaN   \n",
      "25%       7.910400      NaN    NaN  NaN        NaN  NaN          NaN   NaN   \n",
      "50%      14.454200      NaN    NaN  NaN        NaN  NaN          NaN   NaN   \n",
      "75%      31.000000      NaN    NaN  NaN        NaN  NaN          NaN   NaN   \n",
      "max     512.329200      NaN    NaN  NaN        NaN  NaN          NaN   NaN   \n",
      "\n",
      "       alone  \n",
      "count    891  \n",
      "unique     2  \n",
      "top     True  \n",
      "freq     537  \n",
      "mean     NaN  \n",
      "std      NaN  \n",
      "min      NaN  \n",
      "25%      NaN  \n",
      "50%      NaN  \n",
      "75%      NaN  \n",
      "max      NaN  \n",
      "survived         0\n",
      "pclass           0\n",
      "sex              0\n",
      "age            177\n",
      "sibsp            0\n",
      "parch            0\n",
      "fare             0\n",
      "embarked         2\n",
      "class            0\n",
      "who              0\n",
      "adult_male       0\n",
      "deck           688\n",
      "embark_town      2\n",
      "alive            0\n",
      "alone            0\n",
      "dtype: int64\n"
     ]
    }
   ],
   "source": [
    "# Display basic information about the dataset\n",
    "print(titanic.info())\n",
    "# Display summary statistics\n",
    "print(titanic.describe(include='all'))\n",
    "# Check for missing values\n",
    "print(titanic.isnull().sum())"
   ]
  },
  {
   "cell_type": "markdown",
   "id": "6d594c72",
   "metadata": {},
   "source": [
    "### 9.3 Handling Missing Data"
   ]
  },
  {
   "cell_type": "code",
   "execution_count": 31,
   "id": "72c7e25a",
   "metadata": {},
   "outputs": [
    {
     "name": "stdout",
     "output_type": "stream",
     "text": [
      "survived       0\n",
      "pclass         0\n",
      "sex            0\n",
      "age            0\n",
      "sibsp          0\n",
      "parch          0\n",
      "fare           0\n",
      "embarked       0\n",
      "class          0\n",
      "who            0\n",
      "adult_male     0\n",
      "embark_town    2\n",
      "alive          0\n",
      "alone          0\n",
      "dtype: int64\n"
     ]
    }
   ],
   "source": [
    "# Fill missing values in 'age' with the mean age\n",
    "titanic['age'].fillna(titanic['age'].mean(), inplace=True)\n",
    "# Fill missing values in 'embarked' with the most frequent value\n",
    "titanic['embarked'].fillna(titanic['embarked'].mode()[0], inplace=True)\n",
    "# Drop rows with missing 'deck' values\n",
    "titanic.drop(columns=['deck'], inplace=True)\n",
    "# Verify missing values are handled\n",
    "print(titanic.isnull().sum())"
   ]
  },
  {
   "cell_type": "markdown",
   "id": "3f60b384",
   "metadata": {},
   "source": [
    "### 9.4 Data Transformation"
   ]
  },
  {
   "cell_type": "code",
   "execution_count": 32,
   "id": "1c52fcac",
   "metadata": {},
   "outputs": [
    {
     "name": "stdout",
     "output_type": "stream",
     "text": [
      "   survived  pclass  sex   age  sibsp  parch     fare  class    who  \\\n",
      "0         0       3    0  22.0      1      0   7.2500  Third    man   \n",
      "1         1       1    1  38.0      1      0  71.2833  First  woman   \n",
      "2         1       3    1  26.0      0      0   7.9250  Third  woman   \n",
      "3         1       1    1  35.0      1      0  53.1000  First  woman   \n",
      "4         0       3    0  35.0      0      0   8.0500  Third    man   \n",
      "\n",
      "   adult_male  embark_town alive  alone  embarked_Q  embarked_S  \n",
      "0        True  Southampton    no  False           0           1  \n",
      "1       False    Cherbourg   yes  False           0           0  \n",
      "2       False  Southampton   yes   True           0           1  \n",
      "3       False  Southampton   yes  False           0           1  \n",
      "4        True  Southampton    no   True           0           1  \n"
     ]
    }
   ],
   "source": [
    "# Convert 'sex' to numerical values\n",
    "titanic['sex'] = titanic['sex'].map({'male': 0, 'female': 1})\n",
    "# Convert 'embarked' to numerical values\n",
    "titanic = pd.get_dummies(titanic, columns=['embarked'], drop_first=True)\n",
    "print(titanic.head())"
   ]
  },
  {
   "cell_type": "markdown",
   "id": "55ad3fff",
   "metadata": {},
   "source": [
    "### 9.5 Data Aggregation and Grouping"
   ]
  },
  {
   "cell_type": "code",
   "execution_count": 33,
   "id": "5f860429",
   "metadata": {},
   "outputs": [
    {
     "name": "stdout",
     "output_type": "stream",
     "text": [
      "              age       fare\n",
      "pclass                      \n",
      "1       37.048118  84.154687\n",
      "2       29.866958  20.662183\n",
      "3       26.403259  13.675550\n"
     ]
    }
   ],
   "source": [
    "# Group by 'pclass' and calculate the mean age and fare\n",
    "grouped = titanic.groupby('pclass').agg({'age': 'mean', 'fare': 'mean'})\n",
    "print(grouped)"
   ]
  },
  {
   "cell_type": "markdown",
   "id": "a5731685",
   "metadata": {},
   "source": [
    "### 9.6 Data Visualization"
   ]
  },
  {
   "cell_type": "code",
   "execution_count": 34,
   "id": "d831bf1d",
   "metadata": {},
   "outputs": [
    {
     "data": {
      "image/png": "[encoded data removed]",
      "text/plain": [
       "<Figure size 640x480 with 1 Axes>"
      ]
     },
     "metadata": {},
     "output_type": "display_data"
    },
    {
     "data": {
      "image/png": "[encoded data removed]",
      "text/plain": [
       "<Figure size 640x480 with 1 Axes>"
      ]
     },
     "metadata": {},
     "output_type": "display_data"
    }
   ],
   "source": [
    "import matplotlib.pyplot as plt\n",
    "import seaborn as sns\n",
    "\n",
    "# Plot the distribution of ages\n",
    "sns.histplot(titanic['age'], kde=True)\n",
    "plt.title('Age Distribution')\n",
    "plt.show()\n",
    "\n",
    "# Plot the count of passengers by class\n",
    "sns.countplot(x='pclass', data=titanic)\n",
    "plt.title('Passenger Count by Class')\n",
    "plt.show()"
   ]
  }
 ],
 "metadata": {
  "kernelspec": {
   "display_name": "Python 3 (ipykernel)",
   "language": "python",
   "name": "python3"
  },
  "language_info": {
   "codemirror_mode": {
    "name": "ipython",
    "version": 3
   },
   "file_extension": ".py",
   "mimetype": "text/x-python",
   "name": "python",
   "nbconvert_exporter": "python",
   "pygments_lexer": "ipython3",
   "version": "3.9.16"
  }
 },
 "nbformat": 4,
 "nbformat_minor": 5
}
