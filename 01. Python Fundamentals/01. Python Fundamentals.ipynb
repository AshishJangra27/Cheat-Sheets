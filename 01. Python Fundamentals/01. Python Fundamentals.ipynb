{
 "cells": [
  {
   "cell_type": "markdown",
   "id": "1a15b8df",
   "metadata": {},
   "source": [
    "# Python Fundamentals Cheat Sheet\n",
    "\n",
    "**Introduction**\n",
    "Python is a versatile, high-level programming language known for its readability and ease of use. This cheat sheet covers the fundamental concepts that are essential for anyone starting with Python."
   ]
  },
  {
   "cell_type": "markdown",
   "id": "1428e9f6",
   "metadata": {},
   "source": [
    "## 1. Introduction\n",
    "### 1.1 What is Python?\n",
    "Python is an interpreted, high-level, general-purpose programming language. Created by Guido van Rossum and first released in 1991, Python's design philosophy emphasizes code readability with its notable use of significant whitespace."
   ]
  },
  {
   "cell_type": "markdown",
   "id": "0bcc7e8b",
   "metadata": {},
   "source": [
    "### 1.2 Setting Up Python Environment\n",
    "1. Download Python from [python.org](https://www.python.org/).\n",
    "2. Install Python following the instructions for your operating system.\n",
    "3. Verify the installation by typing `python --version` in your command line."
   ]
  },
  {
   "cell_type": "markdown",
   "id": "14460fdf",
   "metadata": {},
   "source": [
    "### 1.3 Running Python Code\n",
    "You can run Python code in several ways:\n",
    "- **Interactive Mode**: Open a terminal and type `python`.\n",
    "- **Script Mode**: Write your code in a `.py` file and run it using `python filename.py`.\n",
    "- **Integrated Development Environment (IDE)**: Use an IDE like PyCharm, VSCode, or Jupyter Notebook for more features and better code management."
   ]
  },
  {
   "cell_type": "markdown",
   "id": "a3fe5358",
   "metadata": {},
   "source": [
    "## 2. Variables and Data Types\n",
    "### 2.1 Variables\n",
    "Variables are containers for storing data values. In Python, variables are created when you assign a value to them."
   ]
  },
  {
   "cell_type": "code",
   "execution_count": 36,
   "id": "65ffc6d4",
   "metadata": {},
   "outputs": [],
   "source": [
    "# Creating variables\n",
    "x = 10           # Integer\n",
    "y = 20.5         # Float\n",
    "name = 'Ashish'  # String\n",
    "is_active = True # Boolean"
   ]
  },
  {
   "cell_type": "markdown",
   "id": "d9684c16",
   "metadata": {},
   "source": [
    "### 2.2 Data Types\n",
    "Python supports several data types including integers, floats, strings, and booleans."
   ]
  },
  {
   "cell_type": "code",
   "execution_count": 37,
   "id": "f092ae56",
   "metadata": {},
   "outputs": [],
   "source": [
    "# Data Types examples\n",
    "x = 10\n",
    "y = 20.5\n",
    "name = 'Ashish'\n",
    "is_active = True"
   ]
  },
  {
   "cell_type": "markdown",
   "id": "070a51fb",
   "metadata": {},
   "source": [
    "### 2.3 Type Conversion\n",
    "You can convert between different data types using functions like `int()`, `float()`, `str()`, etc."
   ]
  },
  {
   "cell_type": "code",
   "execution_count": 38,
   "id": "2089a078",
   "metadata": {},
   "outputs": [],
   "source": [
    "# Converting between types\n",
    "int_to_float = float(10)  # Output: 10.0\n",
    "float_to_int = int(20.5)  # Output: 20\n",
    "int_to_str = str(10)      # Output: '10'\n",
    "str_to_int = int('10')    # Output: 10"
   ]
  },
  {
   "cell_type": "markdown",
   "id": "70e639c6",
   "metadata": {},
   "source": [
    "## 3. Basic Operations\n",
    "### 3.1 Arithmetic Operations\n",
    "Python supports the following arithmetic operations:"
   ]
  },
  {
   "cell_type": "code",
   "execution_count": 39,
   "id": "e02efdcb",
   "metadata": {},
   "outputs": [
    {
     "name": "stdout",
     "output_type": "stream",
     "text": [
      "13\n",
      "7\n",
      "30\n",
      "3.3333333333333335\n",
      "1\n",
      "1000\n"
     ]
    }
   ],
   "source": [
    "a = 10\n",
    "b = 3\n",
    "\n",
    "print(a + b)  # Addition: 13\n",
    "print(a - b)  # Subtraction: 7\n",
    "print(a * b)  # Multiplication: 30\n",
    "print(a / b)  # Division: 3.3333...\n",
    "print(a % b)  # Modulus: 1\n",
    "print(a ** b) # Exponentiation: 1000"
   ]
  },
  {
   "cell_type": "markdown",
   "id": "7e563af0",
   "metadata": {},
   "source": [
    "### 3.2 Assignment Operations"
   ]
  },
  {
   "cell_type": "code",
   "execution_count": 40,
   "id": "7066f53e",
   "metadata": {},
   "outputs": [],
   "source": [
    "x = 5\n",
    "x += 3  # Equivalent to x = x + 3\n",
    "x -= 2  # Equivalent to x = x - 2\n",
    "x *= 4  # Equivalent to x = x * 4\n",
    "x /= 2  # Equivalent to x = x / 2"
   ]
  },
  {
   "cell_type": "markdown",
   "id": "e041e0c8",
   "metadata": {},
   "source": [
    "### 3.3 Comparison Operations"
   ]
  },
  {
   "cell_type": "code",
   "execution_count": 41,
   "id": "c94d56a4",
   "metadata": {},
   "outputs": [
    {
     "name": "stdout",
     "output_type": "stream",
     "text": [
      "False\n",
      "True\n",
      "False\n",
      "True\n"
     ]
    }
   ],
   "source": [
    "a = 5\n",
    "b = 10\n",
    "\n",
    "print(a == b)  # Equal: False\n",
    "print(a != b)  # Not equal: True\n",
    "print(a > b)   # Greater than: False\n",
    "print(a < b)   # Less than: True"
   ]
  },
  {
   "cell_type": "markdown",
   "id": "489ac4e3",
   "metadata": {},
   "source": [
    "### 3.4 Logical Operations"
   ]
  },
  {
   "cell_type": "code",
   "execution_count": 42,
   "id": "a5c92976",
   "metadata": {},
   "outputs": [
    {
     "name": "stdout",
     "output_type": "stream",
     "text": [
      "False\n",
      "True\n",
      "False\n"
     ]
    }
   ],
   "source": [
    "is_mentor = True\n",
    "is_student = False\n",
    "\n",
    "print(is_mentor and is_student) # Logical AND: False\n",
    "print(is_mentor or is_student)  # Logical OR: True\n",
    "print(not is_mentor)            # Logical NOT: False"
   ]
  },
  {
   "cell_type": "markdown",
   "id": "e4597542",
   "metadata": {},
   "source": [
    "## 4. Control Flow\n",
    "### 4.1 If-Else Statements\n",
    "Control flow statements in Python allow you to execute code based on conditions."
   ]
  },
  {
   "cell_type": "code",
   "execution_count": 43,
   "id": "eb67c555",
   "metadata": {},
   "outputs": [
    {
     "name": "stdout",
     "output_type": "stream",
     "text": [
      "You are an adult.\n"
     ]
    }
   ],
   "source": [
    "age = 18\n",
    "\n",
    "if age >= 18:\n",
    "    print('You are an adult.')\n",
    "else:\n",
    "    print('You are a minor.')"
   ]
  },
  {
   "cell_type": "markdown",
   "id": "e76eb434",
   "metadata": {},
   "source": [
    "### 4.2 For Loops"
   ]
  },
  {
   "cell_type": "code",
   "execution_count": 44,
   "id": "2875a8a5",
   "metadata": {},
   "outputs": [
    {
     "name": "stdout",
     "output_type": "stream",
     "text": [
      "apple\n",
      "banana\n",
      "cherry\n",
      "0\n",
      "1\n",
      "2\n",
      "3\n",
      "4\n"
     ]
    }
   ],
   "source": [
    "# Looping through a list\n",
    "fruits = ['apple', 'banana', 'cherry']\n",
    "for fruit in fruits:\n",
    "    print(fruit)\n",
    "\n",
    "# Using range()\n",
    "for i in range(5):\n",
    "    print(i)"
   ]
  },
  {
   "cell_type": "markdown",
   "id": "549d996a",
   "metadata": {},
   "source": [
    "### 4.3 While Loops"
   ]
  },
  {
   "cell_type": "code",
   "execution_count": 45,
   "id": "2d531d95",
   "metadata": {},
   "outputs": [
    {
     "name": "stdout",
     "output_type": "stream",
     "text": [
      "0\n",
      "1\n",
      "2\n",
      "3\n",
      "4\n"
     ]
    }
   ],
   "source": [
    "count = 0\n",
    "\n",
    "while count < 5:\n",
    "    print(count)\n",
    "    count += 1"
   ]
  },
  {
   "cell_type": "markdown",
   "id": "1e471344",
   "metadata": {},
   "source": [
    "### 4.4 Break and Continue"
   ]
  },
  {
   "cell_type": "code",
   "execution_count": 46,
   "id": "fc198ae0",
   "metadata": {},
   "outputs": [
    {
     "name": "stdout",
     "output_type": "stream",
     "text": [
      "0\n",
      "1\n",
      "2\n",
      "3\n",
      "4\n",
      "0\n",
      "1\n",
      "2\n",
      "3\n",
      "4\n",
      "6\n",
      "7\n",
      "8\n",
      "9\n"
     ]
    }
   ],
   "source": [
    "# Break statement\n",
    "for i in range(10):\n",
    "    if i == 5:\n",
    "        break\n",
    "    print(i)\n",
    "\n",
    "# Continue statement\n",
    "for i in range(10):\n",
    "    if i == 5:\n",
    "        continue\n",
    "    print(i)"
   ]
  },
  {
   "cell_type": "markdown",
   "id": "10988646",
   "metadata": {},
   "source": [
    "## 5. Data Structures\n",
    "Python provides various data structures to store collections of data.\n",
    "### 5.1 Lists\n",
    "Lists are used to store multiple items in a single variable."
   ]
  },
  {
   "cell_type": "code",
   "execution_count": 47,
   "id": "ccd0c61c",
   "metadata": {},
   "outputs": [
    {
     "name": "stdout",
     "output_type": "stream",
     "text": [
      "apple\n"
     ]
    }
   ],
   "source": [
    "# Creating a list\n",
    "fruits = ['apple', 'banana', 'cherry']\n",
    "\n",
    "# Accessing elements\n",
    "print(fruits[0])  # Output: apple\n",
    "\n",
    "# Adding elements\n",
    "fruits.append('orange')\n",
    "\n",
    "# Removing elements\n",
    "fruits.remove('banana')\n",
    "\n",
    "# List comprehension\n",
    "squares = [x**2 for x in range(10)]"
   ]
  },
  {
   "cell_type": "markdown",
   "id": "a5bd79ce",
   "metadata": {},
   "source": [
    "### 5.2 Dictionaries"
   ]
  },
  {
   "cell_type": "code",
   "execution_count": 48,
   "id": "2020a68f",
   "metadata": {},
   "outputs": [
    {
     "name": "stdout",
     "output_type": "stream",
     "text": [
      "Ashish\n"
     ]
    }
   ],
   "source": [
    "# Creating a dictionary\n",
    "person = {'name': 'Ashish', 'age': 25, 'city': 'Delhi'}\n",
    "\n",
    "# Accessing values\n",
    "print(person['name'])  # Output: Ashish\n",
    "\n",
    "# Adding key-value pairs\n",
    "person['email'] = 'ashish@example.com'\n",
    "\n",
    "# Removing key-value pairs\n",
    "del person['age']"
   ]
  },
  {
   "cell_type": "markdown",
   "id": "4dc523dd",
   "metadata": {},
   "source": [
    "### 5.3 Tuples"
   ]
  },
  {
   "cell_type": "code",
   "execution_count": 49,
   "id": "09a9af8d",
   "metadata": {},
   "outputs": [
    {
     "name": "stdout",
     "output_type": "stream",
     "text": [
      "10\n"
     ]
    }
   ],
   "source": [
    "# Creating a tuple\n",
    "coordinates = (10, 20)\n",
    "\n",
    "# Accessing elements\n",
    "print(coordinates[0])  # Output: 10\n",
    "\n",
    "# Tuples are immutable\n",
    "# coordinates[0] = 15  # This will raise an error"
   ]
  },
  {
   "cell_type": "markdown",
   "id": "5044f35a",
   "metadata": {},
   "source": [
    "### 5.4 Sets"
   ]
  },
  {
   "cell_type": "code",
   "execution_count": 50,
   "id": "5185f4e3",
   "metadata": {},
   "outputs": [],
   "source": [
    "# Creating a set\n",
    "unique_numbers = {1, 2, 3, 4, 5}\n",
    "\n",
    "# Adding elements\n",
    "unique_numbers.add(6)\n",
    "\n",
    "# Removing elements\n",
    "unique_numbers.remove(3)"
   ]
  },
  {
   "cell_type": "markdown",
   "id": "3276a838",
   "metadata": {},
   "source": [
    "## 6. Functions\n",
    "Functions in Python are defined using the `def` keyword. They allow you to encapsulate code for reuse and better organization."
   ]
  },
  {
   "cell_type": "markdown",
   "id": "9e1a4b8c",
   "metadata": {},
   "source": [
    "### 6.1 Defining and Calling Functions"
   ]
  },
  {
   "cell_type": "code",
   "execution_count": 51,
   "id": "7d2c2a4d",
   "metadata": {},
   "outputs": [
    {
     "name": "stdout",
     "output_type": "stream",
     "text": [
      "Hello, Ashish!\n"
     ]
    }
   ],
   "source": [
    "# Defining a function\n",
    "def greet(name):\n",
    "    return f'Hello, {name}!'\n",
    "\n",
    "# Calling a function\n",
    "print(greet('Ashish'))  # Output: Hello, Ashish!"
   ]
  },
  {
   "cell_type": "markdown",
   "id": "0f3d8227",
   "metadata": {},
   "source": [
    "### 6.2 Lambda Functions"
   ]
  },
  {
   "cell_type": "code",
   "execution_count": 52,
   "id": "bf6cdd6e",
   "metadata": {},
   "outputs": [
    {
     "name": "stdout",
     "output_type": "stream",
     "text": [
      "8\n"
     ]
    }
   ],
   "source": [
    "# Lambda function to add two numbers\n",
    "add = lambda x, y: x + y\n",
    "print(add(5, 3))  # Output: 8"
   ]
  },
  {
   "cell_type": "markdown",
   "id": "544387e3",
   "metadata": {},
   "source": [
    "### 6.3 Decorators"
   ]
  },
  {
   "cell_type": "code",
   "execution_count": 53,
   "id": "fd2322ad",
   "metadata": {},
   "outputs": [
    {
     "name": "stdout",
     "output_type": "stream",
     "text": [
      "Calling multiply with (3, 4) and {}\n",
      "multiply returned 12\n",
      "12\n"
     ]
    }
   ],
   "source": [
    "# Defining a simple decorator\n",
    "def debug(func):\n",
    "    def wrapper(*args, **kwargs):\n",
    "        print(f'Calling {func.__name__} with {args} and {kwargs}')\n",
    "        result = func(*args, **kwargs)\n",
    "        print(f'{func.__name__} returned {result}')\n",
    "        return result\n",
    "    return wrapper\n",
    "\n",
    "@debug\n",
    "def multiply(a, b):\n",
    "    return a * b\n",
    "\n",
    "print(multiply(3, 4))  # Output: Calling multiply with (3, 4) and {} "
   ]
  },
  {
   "cell_type": "markdown",
   "id": "416c87b6",
   "metadata": {},
   "source": [
    "## 7. File Handling\n",
    "Python provides built-in functions to read from and write to files. This is essential for data persistence and manipulation."
   ]
  },
  {
   "cell_type": "markdown",
   "id": "93a0d7d7",
   "metadata": {},
   "source": [
    "### 7.1 Writing to a File"
   ]
  },
  {
   "cell_type": "code",
   "execution_count": 54,
   "id": "cff07644",
   "metadata": {},
   "outputs": [],
   "source": [
    "with open('file.txt', 'w') as file:\n",
    "    file.write('Hello, world!')"
   ]
  },
  {
   "cell_type": "markdown",
   "id": "38fd8824",
   "metadata": {},
   "source": [
    "### 7.2 Reading a File"
   ]
  },
  {
   "cell_type": "code",
   "execution_count": 55,
   "id": "3a2c2473",
   "metadata": {},
   "outputs": [
    {
     "name": "stdout",
     "output_type": "stream",
     "text": [
      "Hello, world!\n"
     ]
    }
   ],
   "source": [
    "with open('file.txt', 'r') as file:\n",
    "    content = file.read()\n",
    "    print(content)"
   ]
  },
  {
   "cell_type": "markdown",
   "id": "41b300b6",
   "metadata": {},
   "source": [
    "### 7.3 Appending to a File"
   ]
  },
  {
   "cell_type": "code",
   "execution_count": 56,
   "id": "5356a5e3",
   "metadata": {},
   "outputs": [],
   "source": [
    "with open('file.txt', 'a') as file:\n",
    "    file.write('\\nAppended text.')"
   ]
  },
  {
   "cell_type": "markdown",
   "id": "677a00e7",
   "metadata": {},
   "source": [
    "## 8. Error Handling\n",
    "Python uses try-except blocks to handle exceptions and errors gracefully. This ensures your program can handle unexpected situations without crashing."
   ]
  },
  {
   "cell_type": "markdown",
   "id": "df45d844",
   "metadata": {},
   "source": [
    "### 8.1 Try-Except Block"
   ]
  },
  {
   "cell_type": "code",
   "execution_count": 57,
   "id": "44e55bff",
   "metadata": {},
   "outputs": [
    {
     "name": "stdout",
     "output_type": "stream",
     "text": [
      "Cannot divide by zero!\n"
     ]
    }
   ],
   "source": [
    "try:\n",
    "    x = 10 / 0\n",
    "except ZeroDivisionError:\n",
    "    print('Cannot divide by zero!')"
   ]
  },
  {
   "cell_type": "markdown",
   "id": "4f09aa7c",
   "metadata": {},
   "source": [
    "### 8.2 Custom Exception"
   ]
  },
  {
   "cell_type": "code",
   "execution_count": 58,
   "id": "b0c95892",
   "metadata": {},
   "outputs": [
    {
     "name": "stdout",
     "output_type": "stream",
     "text": [
      "This is a custom error\n"
     ]
    }
   ],
   "source": [
    "class CustomError(Exception):\n",
    "    pass\n",
    "\n",
    "try:\n",
    "    raise CustomError('This is a custom error')\n",
    "except CustomError as e:\n",
    "    print(e)  # Output: This is a custom error"
   ]
  },
  {
   "cell_type": "markdown",
   "id": "c586c4ad",
   "metadata": {},
   "source": [
    "## 9. Libraries and Packages\n",
    "Python's standard library and third-party packages extend its capabilities. Using libraries and packages allows you to leverage pre-written code for various tasks."
   ]
  },
  {
   "cell_type": "markdown",
   "id": "e9938130",
   "metadata": {},
   "source": [
    "### 9.1 Importing Libraries"
   ]
  },
  {
   "cell_type": "code",
   "execution_count": 59,
   "id": "106bf776",
   "metadata": {},
   "outputs": [
    {
     "name": "stdout",
     "output_type": "stream",
     "text": [
      "4.0\n"
     ]
    }
   ],
   "source": [
    "import math\n",
    "\n",
    "# Using math library\n",
    "print(math.sqrt(16))  # Output: 4.0"
   ]
  },
  {
   "cell_type": "markdown",
   "id": "43c1d3b6",
   "metadata": {},
   "source": [
    "### 9.2 Installing Packages"
   ]
  },
  {
   "cell_type": "code",
   "execution_count": 60,
   "id": "7269a97a",
   "metadata": {},
   "outputs": [
    {
     "name": "stdout",
     "output_type": "stream",
     "text": [
      "Requirement already satisfied: numpy in /Users/ashishzangra/opt/anaconda3/lib/python3.9/site-packages (1.21.5)\r\n"
     ]
    }
   ],
   "source": [
    "# Using pip to install a package\n",
    "!pip install numpy"
   ]
  },
  {
   "cell_type": "markdown",
   "id": "1a0158bf",
   "metadata": {},
   "source": [
    "### 9.3 Using Packages"
   ]
  },
  {
   "cell_type": "code",
   "execution_count": 61,
   "id": "77f07af2",
   "metadata": {},
   "outputs": [
    {
     "name": "stdout",
     "output_type": "stream",
     "text": [
      "[1 2 3 4]\n",
      "[6 7 8 9]\n"
     ]
    }
   ],
   "source": [
    "import numpy as np\n",
    "\n",
    "# Creating an array\n",
    "arr = np.array([1, 2, 3, 4])\n",
    "print(arr)\n",
    "\n",
    "# Basic array operations\n",
    "print(arr + 5)  # Output: [ 6  7  8  9]"
   ]
  },
  {
   "cell_type": "markdown",
   "id": "77bb0b8e",
   "metadata": {},
   "source": [
    "## 10. Object-Oriented Programming\n",
    "Object-Oriented Programming (OOP) is a programming paradigm based on the concept of 'objects', which can contain data and code."
   ]
  },
  {
   "cell_type": "markdown",
   "id": "e72db5d2",
   "metadata": {},
   "source": [
    "### 10.1 Classes and Objects"
   ]
  },
  {
   "cell_type": "code",
   "execution_count": 62,
   "id": "b1a97610",
   "metadata": {},
   "outputs": [
    {
     "name": "stdout",
     "output_type": "stream",
     "text": [
      "Buddy\n",
      "Woof!\n"
     ]
    }
   ],
   "source": [
    "# Defining a class\n",
    "class Dog:\n",
    "    def __init__(self, name, age):\n",
    "        self.name = name\n",
    "        self.age = age\n",
    "\n",
    "    def bark(self):\n",
    "        return 'Woof!'\n",
    "\n",
    "# Creating an object\n",
    "my_dog = Dog('Buddy', 3)\n",
    "print(my_dog.name)  # Output: Buddy\n",
    "print(my_dog.bark())  # Output: Woof!"
   ]
  },
  {
   "cell_type": "markdown",
   "id": "16ebb97f",
   "metadata": {},
   "source": [
    "### 10.2 Methods"
   ]
  },
  {
   "cell_type": "code",
   "execution_count": 63,
   "id": "c5b46078",
   "metadata": {},
   "outputs": [
    {
     "name": "stdout",
     "output_type": "stream",
     "text": [
      "3\n"
     ]
    }
   ],
   "source": [
    "# Adding methods to a class\n",
    "class Dog:\n",
    "    def __init__(self, name, age):\n",
    "        self.name = name\n",
    "        self.age = age\n",
    "\n",
    "    def bark(self):\n",
    "        return 'Woof!'\n",
    "\n",
    "    def get_age(self):\n",
    "        return self.age\n",
    "\n",
    "# Creating an object and using methods\n",
    "my_dog = Dog('Buddy', 3)\n",
    "print(my_dog.get_age())  # Output: 3"
   ]
  },
  {
   "cell_type": "markdown",
   "id": "8818d7c3",
   "metadata": {},
   "source": [
    "### 10.3 Inheritance"
   ]
  },
  {
   "cell_type": "code",
   "execution_count": 64,
   "id": "76a5402d",
   "metadata": {},
   "outputs": [
    {
     "name": "stdout",
     "output_type": "stream",
     "text": [
      "Buddy\n",
      "Some sound\n",
      "Woof!\n"
     ]
    }
   ],
   "source": [
    "# Inheritance in Python\n",
    "class Animal:\n",
    "    def __init__(self, name):\n",
    "        self.name = name\n",
    "\n",
    "    def make_sound(self):\n",
    "        return 'Some sound'\n",
    "\n",
    "class Dog(Animal):\n",
    "    def bark(self):\n",
    "        return 'Woof!'\n",
    "\n",
    "# Creating an object of the derived class\n",
    "my_dog = Dog('Buddy')\n",
    "print(my_dog.name)  # Output: Buddy\n",
    "print(my_dog.make_sound())  # Output: Some sound\n",
    "print(my_dog.bark())  # Output: Woof!"
   ]
  },
  {
   "cell_type": "markdown",
   "id": "d858b930",
   "metadata": {},
   "source": [
    "### 10.4 Polymorphism"
   ]
  },
  {
   "cell_type": "code",
   "execution_count": 65,
   "id": "0ea4a616",
   "metadata": {},
   "outputs": [
    {
     "name": "stdout",
     "output_type": "stream",
     "text": [
      "Meow\n",
      "Woof\n"
     ]
    }
   ],
   "source": [
    "# Polymorphism in Python\n",
    "class Cat:\n",
    "    def speak(self):\n",
    "        return 'Meow'\n",
    "\n",
    "class Dog:\n",
    "    def speak(self):\n",
    "        return 'Woof'\n",
    "\n",
    "def make_animal_speak(animal):\n",
    "    print(animal.speak())\n",
    "\n",
    "my_cat = Cat()\n",
    "my_dog = Dog()\n",
    "make_animal_speak(my_cat)  # Output: Meow\n",
    "make_animal_speak(my_dog)  # Output: Woof"
   ]
  },
  {
   "cell_type": "markdown",
   "id": "aae9c211",
   "metadata": {},
   "source": [
    "## 11. Advanced Topics\n",
    "### 11.1 List Comprehensions\n",
    "List comprehensions provide a concise way to create lists."
   ]
  },
  {
   "cell_type": "code",
   "execution_count": 66,
   "id": "db37ae97",
   "metadata": {},
   "outputs": [
    {
     "name": "stdout",
     "output_type": "stream",
     "text": [
      "[0, 1, 4, 9, 16, 25, 36, 49, 64, 81]\n"
     ]
    }
   ],
   "source": [
    "# List comprehension to create a list of squares\n",
    "squares = [x**2 for x in range(10)]\n",
    "print(squares)  # Output: [0, 1, 4, 9, 16, 25, 36, 49, 64, 81]"
   ]
  },
  {
   "cell_type": "markdown",
   "id": "60541c32",
   "metadata": {},
   "source": [
    "### 11.2 Generators"
   ]
  },
  {
   "cell_type": "code",
   "execution_count": 67,
   "id": "ce3bb69d",
   "metadata": {},
   "outputs": [
    {
     "name": "stdout",
     "output_type": "stream",
     "text": [
      "0\n",
      "1\n",
      "2\n",
      "3\n",
      "4\n"
     ]
    }
   ],
   "source": [
    "# Generator function\n",
    "def generate_numbers(n):\n",
    "    for i in range(n):\n",
    "        yield i\n",
    "\n",
    "# Using the generator\n",
    "gen = generate_numbers(5)\n",
    "for num in gen:\n",
    "    print(num)  # Output: 0 1 2 3 4"
   ]
  },
  {
   "cell_type": "markdown",
   "id": "790353c3",
   "metadata": {},
   "source": [
    "### 11.3 Context Managers"
   ]
  },
  {
   "cell_type": "code",
   "execution_count": 68,
   "id": "a9c1905a",
   "metadata": {},
   "outputs": [],
   "source": [
    "# Using a context manager\n",
    "with open('file.txt', 'w') as file:\n",
    "    file.write('Hello, world!')"
   ]
  },
  {
   "cell_type": "markdown",
   "id": "6b14a491",
   "metadata": {},
   "source": [
    "## 12. Surprise Elements\n",
    "Interactive exercises can help reinforce your understanding of Python. Try these exercises to apply what you've learned."
   ]
  },
  {
   "cell_type": "markdown",
   "id": "c224445f",
   "metadata": {},
   "source": [
    "### 12.1 Interactive Exercise:\n",
    "Try creating a small program that calculates the factorial of a number provided by the user. This will help reinforce your understanding of loops and conditional statements."
   ]
  },
  {
   "cell_type": "code",
   "execution_count": 69,
   "id": "4bbd2c07",
   "metadata": {},
   "outputs": [
    {
     "name": "stdout",
     "output_type": "stream",
     "text": [
      "Enter a number: 5\n",
      "The factorial of 5 is 120\n"
     ]
    }
   ],
   "source": [
    "def factorial(n):\n",
    "    if n == 0:\n",
    "        return 1\n",
    "    else:\n",
    "        return n * factorial(n-1)\n",
    "\n",
    "# Taking user input\n",
    "num = int(input('Enter a number: '))\n",
    "print(f'The factorial of {num} is {factorial(num)}')"
   ]
  },
  {
   "cell_type": "markdown",
   "id": "afc4f116",
   "metadata": {},
   "source": [
    "### 12.2 Data Science Exercise:\n",
    "Here's a quick data science exercise. Calculate the mean of a list of numbers provided by the user."
   ]
  },
  {
   "cell_type": "code",
   "execution_count": 70,
   "id": "93271c42",
   "metadata": {},
   "outputs": [
    {
     "name": "stdout",
     "output_type": "stream",
     "text": [
      "Enter numbers separated by spaces: 1 2 3\n",
      "The mean of the numbers is 2.0\n"
     ]
    }
   ],
   "source": [
    "def calculate_mean(numbers):\n",
    "    return sum(numbers) / len(numbers)\n",
    "\n",
    "# Taking user input\n",
    "user_input = input('Enter numbers separated by spaces: ')\n",
    "numbers = list(map(int, user_input.split()))\n",
    "print(f'The mean of the numbers is {calculate_mean(numbers)}')"
   ]
  }
 ],
 "metadata": {
  "kernelspec": {
   "display_name": "Python 3 (ipykernel)",
   "language": "python",
   "name": "python3"
  },
  "language_info": {
   "codemirror_mode": {
    "name": "ipython",
    "version": 3
   },
   "file_extension": ".py",
   "mimetype": "text/x-python",
   "name": "python",
   "nbconvert_exporter": "python",
   "pygments_lexer": "ipython3",
   "version": "3.9.16"
  }
 },
 "nbformat": 4,
 "nbformat_minor": 5
}
